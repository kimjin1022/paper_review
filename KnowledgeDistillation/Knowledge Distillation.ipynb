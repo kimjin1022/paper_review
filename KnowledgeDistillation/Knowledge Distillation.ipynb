{
 "cells": [
  {
   "cell_type": "markdown",
   "id": "aee85d1a-8173-4e3b-93c7-8fac4130bb9e",
   "metadata": {},
   "source": [
    "# Import"
   ]
  },
  {
   "cell_type": "code",
   "execution_count": 3,
   "id": "ffa69b8c-790d-451a-9dc9-aa2a4bc69514",
   "metadata": {},
   "outputs": [],
   "source": [
    "import torch\n",
    "import torch.nn as nn\n",
    "import torch.nn.functional as F\n",
    "import torch.optim as optim\n",
    "from torchvision import datasets, transforms\n",
    "import torchvision.models as models\n",
    "from torch.utils.data import DataLoader\n",
    "import time\n",
    "import os\n",
    "import copy\n",
    "from torchvision.transforms.functional import to_pil_image\n",
    "import matplotlib.pyplot as plt\n",
    "%matplotlib inline\n",
    "\n",
    "device = torch.device('cuda:6' if torch.cuda.is_available() else 'cpu')"
   ]
  },
  {
   "cell_type": "code",
   "execution_count": 4,
   "id": "fda1da5d-2f14-4bcd-8dda-89d5e87b6fac",
   "metadata": {},
   "outputs": [
    {
     "name": "stdout",
     "output_type": "stream",
     "text": [
      "cuda:6\n"
     ]
    }
   ],
   "source": [
    "print(device)"
   ]
  },
  {
   "cell_type": "markdown",
   "id": "ec0785ae-beed-4f70-8ca3-6e29d184133a",
   "metadata": {},
   "source": [
    "# Dataset"
   ]
  },
  {
   "cell_type": "code",
   "execution_count": 2,
   "id": "d65d7df3-4347-4dac-97ba-a9082c3274a6",
   "metadata": {},
   "outputs": [],
   "source": [
    "def createFolder(directory):\n",
    "    try:\n",
    "        if not os.path.exists(directory):\n",
    "            os.makedirs(directory)\n",
    "    except OSerror:\n",
    "        print('Error')\n",
    "createFolder('./data')"
   ]
  },
  {
   "cell_type": "code",
   "execution_count": 3,
   "id": "5c0c30ef-0c3b-42c3-abcb-a4b7aaea6eee",
   "metadata": {},
   "outputs": [],
   "source": [
    "mean = 0.1307\n",
    "std = 0.3081\n",
    "\n",
    "transform = transforms.Compose([\n",
    "                    transforms.ToTensor(),\n",
    "                    transforms.Normalize((mean,) , (std,))\n",
    "])"
   ]
  },
  {
   "cell_type": "code",
   "execution_count": 4,
   "id": "72fdfefa-52b9-4db3-a9aa-c4d5908cfac6",
   "metadata": {
    "scrolled": true
   },
   "outputs": [],
   "source": [
    "train_ds = datasets.MNIST('./data', train=True, download=True, transform=transform)\n",
    "val_ds = datasets.MNIST('./data', train=False, download=True, transform=transform)"
   ]
  },
  {
   "cell_type": "code",
   "execution_count": 5,
   "id": "e8395a93-a336-423c-b48e-df56a3b7220b",
   "metadata": {},
   "outputs": [],
   "source": [
    "train_dl = DataLoader(train_ds, batch_size=64, shuffle=True)\n",
    "val_dl = DataLoader(val_ds, batch_size=128, shuffle=True)"
   ]
  },
  {
   "cell_type": "code",
   "execution_count": 6,
   "id": "7f4330dc-fb91-4464-b718-5a56438ab9bc",
   "metadata": {},
   "outputs": [
    {
     "name": "stdout",
     "output_type": "stream",
     "text": [
      "torch.Size([64, 1, 28, 28]) torch.Size([64])\n"
     ]
    },
    {
     "data": {
      "image/png": "[encoded data removed]",
      "text/plain": [
       "<Figure size 1500x1500 with 4 Axes>"
      ]
     },
     "metadata": {},
     "output_type": "display_data"
    }
   ],
   "source": [
    "for x, y in train_dl:\n",
    "    print(x.shape, y.shape)\n",
    "    break\n",
    "\n",
    "num = 4\n",
    "img = x[:num]\n",
    "\n",
    "plt.figure(figsize=(15, 15))\n",
    "for i in range(num):\n",
    "    plt.subplot(1, num, i+1)\n",
    "    plt.axis('off')\n",
    "    plt.imshow(to_pil_image(img[i]*mean + std), cmap='gray')"
   ]
  },
  {
   "cell_type": "markdown",
   "id": "0d81fb30-7988-4d9c-a7c4-340d9db57210",
   "metadata": {},
   "source": [
    "# Define Teacher Model"
   ]
  },
  {
   "cell_type": "code",
   "execution_count": 7,
   "id": "92bac115-cc13-41f5-a575-83860bcac1e7",
   "metadata": {},
   "outputs": [],
   "source": [
    "class Teacher(nn.Module):\n",
    "    def __init__(self):\n",
    "        super().__init__()\n",
    "        self.fc1 = nn.Linear(28*28, 1200)\n",
    "        self.bn1 = nn.BatchNorm1d(1200)\n",
    "        self.fc2 = nn.Linear(1200, 1200)\n",
    "        self.bn2 = nn.BatchNorm1d(1200)\n",
    "        self.fc3 = nn.Linear(1200, 10)\n",
    "    \n",
    "    def forward(self, x):\n",
    "        x = x.view(-1, 28*28)\n",
    "        x = F.relu(self.bn1(self.fc1(x)))\n",
    "        x = F.dropout(x, p=0.8)\n",
    "        x = F.relu(self.bn2(self.fc2(x)))\n",
    "        x = F.dropout(x, p=0.8)\n",
    "        x = self.fc3(x)\n",
    "        return x"
   ]
  },
  {
   "cell_type": "code",
   "execution_count": 8,
   "id": "2d72c6bd-cfd5-4ff4-ae04-c443533290ff",
   "metadata": {},
   "outputs": [
    {
     "name": "stdout",
     "output_type": "stream",
     "text": [
      "tensor([9, 7, 9, 5, 0, 6, 1, 3, 5, 6, 6, 7, 6, 1, 9, 8], device='cuda:1')\n",
      "torch.Size([16, 10])\n"
     ]
    }
   ],
   "source": [
    "x = torch.randn(16, 1, 28, 28).to(device)\n",
    "teacher = Teacher().to(device)\n",
    "output = teacher(x)\n",
    "\n",
    "print(output.argmax(axis=1))\n",
    "print(output.size())"
   ]
  },
  {
   "cell_type": "code",
   "execution_count": 9,
   "id": "62a47119-1b67-4d14-9413-543a20eec86d",
   "metadata": {},
   "outputs": [
    {
     "data": {
      "text/plain": [
       "Teacher(\n",
       "  (fc1): Linear(in_features=784, out_features=1200, bias=True)\n",
       "  (bn1): BatchNorm1d(1200, eps=1e-05, momentum=0.1, affine=True, track_running_stats=True)\n",
       "  (fc2): Linear(in_features=1200, out_features=1200, bias=True)\n",
       "  (bn2): BatchNorm1d(1200, eps=1e-05, momentum=0.1, affine=True, track_running_stats=True)\n",
       "  (fc3): Linear(in_features=1200, out_features=10, bias=True)\n",
       ")"
      ]
     },
     "execution_count": 9,
     "metadata": {},
     "output_type": "execute_result"
    }
   ],
   "source": [
    "def init_weights(model):\n",
    "    classname = model.__class__.__name__\n",
    "    if classname.find('fc1') != -1:\n",
    "        nn.init.normal_(model.weight.data, 0.0, 0.02)\n",
    "        nn.init.constant_(model.bias.data, 0)\n",
    "\n",
    "    elif classname.find('BatchNorm') != -1:\n",
    "        nn.init.normal_(model.weight.data, 1.0, 0.02)\n",
    "        nn.init.constant_(model.bias.data, 0)\n",
    "\n",
    "teacher.apply(init_weights)"
   ]
  },
  {
   "cell_type": "markdown",
   "id": "81fc1325-1a39-44d0-aae3-4d033dff74c1",
   "metadata": {},
   "source": [
    "# Train Teacher Model"
   ]
  },
  {
   "cell_type": "code",
   "execution_count": 22,
   "id": "38f49efd-5346-4f2a-83b0-594b3fa97fdb",
   "metadata": {},
   "outputs": [
    {
     "ename": "AttributeError",
     "evalue": "'Adam' object has no attribute 'Adam'",
     "output_type": "error",
     "traceback": [
      "\u001b[0;31m---------------------------------------------------------------------------\u001b[0m",
      "\u001b[0;31mAttributeError\u001b[0m                            Traceback (most recent call last)",
      "Cell \u001b[0;32mIn[22], line 2\u001b[0m\n\u001b[1;32m      1\u001b[0m loss_func \u001b[38;5;241m=\u001b[39m nn\u001b[38;5;241m.\u001b[39mCrossEntropyLoss()\n\u001b[0;32m----> 2\u001b[0m optim \u001b[38;5;241m=\u001b[39m \u001b[43moptim\u001b[49m\u001b[38;5;241;43m.\u001b[39;49m\u001b[43mAdam\u001b[49m(teacher\u001b[38;5;241m.\u001b[39mparameters())\n\u001b[1;32m      4\u001b[0m \u001b[38;5;28;01mfrom\u001b[39;00m \u001b[38;5;21;01mtorch\u001b[39;00m\u001b[38;5;21;01m.\u001b[39;00m\u001b[38;5;21;01moptim\u001b[39;00m\u001b[38;5;21;01m.\u001b[39;00m\u001b[38;5;21;01mlr_scheduler\u001b[39;00m \u001b[38;5;28;01mimport\u001b[39;00m ReduceLROnPlateau\n\u001b[1;32m      5\u001b[0m lr_scheduler \u001b[38;5;241m=\u001b[39m ReduceLROnPlateau(optim, mode\u001b[38;5;241m=\u001b[39m\u001b[38;5;124m'\u001b[39m\u001b[38;5;124mmin\u001b[39m\u001b[38;5;124m'\u001b[39m, factor\u001b[38;5;241m=\u001b[39m\u001b[38;5;241m0.1\u001b[39m, patience\u001b[38;5;241m=\u001b[39m\u001b[38;5;241m10\u001b[39m)\n",
      "\u001b[0;31mAttributeError\u001b[0m: 'Adam' object has no attribute 'Adam'"
     ]
    }
   ],
   "source": [
    "loss_func = nn.CrossEntropyLoss()\n",
    "optim = optim.Adam(teacher.parameters())\n",
    "\n",
    "from torch.optim.lr_scheduler import ReduceLROnPlateau\n",
    "lr_scheduler = ReduceLROnPlateau(optim, mode='min', factor=0.1, patience=10)"
   ]
  },
  {
   "cell_type": "code",
   "execution_count": 11,
   "id": "cd1045b7-14d4-4ce5-9f74-5f6c974fdc6b",
   "metadata": {},
   "outputs": [],
   "source": [
    "def get_lr(optim):\n",
    "    for param_group in optim.param_groups:\n",
    "        return param_group['lr']\n",
    "\n",
    "def metric_batch(output, target):\n",
    "    pred = output.argmax(axis=1, keepdim=True)\n",
    "    corrects = pred.eq(target.view_as(pred)).sum().item()\n",
    "    return corrects\n",
    "\n",
    "def loss_batch(loss_func, output, target, optim=None):\n",
    "    loss_b = loss_func(output, target)\n",
    "    metric_b = metric_batch(output, target)\n",
    "\n",
    "    if optim is not None:\n",
    "        optim.zero_grad()\n",
    "        loss_b.backward()\n",
    "        optim.step()\n",
    "\n",
    "    return loss_b.item(), metric_b\n",
    "\n",
    "def loss_epoch(model, loss_func, dataset_dl, sanity_check=False, optim=None):\n",
    "    run_loss = 0.0\n",
    "    run_metric = 0.0\n",
    "    len_data = len(dataset_dl.dataset)\n",
    "\n",
    "    for xb, yb in dataset_dl:\n",
    "        xb = xb.to(device)\n",
    "        yb = yb.to(device)\n",
    "        output = model(xb)\n",
    "\n",
    "        loss_b, metric_b = loss_batch(loss_func, output, yb, optim)\n",
    "\n",
    "        run_loss += loss_b\n",
    "        run_metric += metric_b\n",
    "\n",
    "        if sanity_check is True:\n",
    "            break\n",
    "\n",
    "    loss = run_loss / len_data\n",
    "    metric = run_metric / len_data\n",
    "    return loss, metric\n",
    "\n",
    "def train_val(model, params):\n",
    "    num_epochs = params['epoch']\n",
    "    loss_func = params['loss_func']\n",
    "    optim = params['optimizer']\n",
    "    train_dl = params['train_dl']\n",
    "    val_dl = params['val_dl']\n",
    "    sanity_check = params['sanity_check']\n",
    "    lr_scheduler = params['lr_scheduler']\n",
    "    path2weights = params['path2weights']\n",
    "\n",
    "    loss_history = {'train':[], 'val':[]}\n",
    "    metric_history = {'train':[], 'val':[]}\n",
    "\n",
    "    best_loss = float('inf')\n",
    "    best_model_wts = copy.deepcopy(model.state_dict())\n",
    "    start_time = time.time()\n",
    "\n",
    "    for epoch in range(num_epochs):\n",
    "        current_lr = get_lr(optim)\n",
    "        print(f'Epoch {epoch}/{num_epochs-1} current lr = {current_lr}')\n",
    "\n",
    "        model.train()\n",
    "        train_loss, train_metric = loss_epoch(model, loss_func, train_dl, sanity_check, optim)\n",
    "        loss_history['train'].append(train_loss)\n",
    "        metric_history['train'].append(train_metric)\n",
    "\n",
    "        model.eval()\n",
    "        with torch.no_grad():\n",
    "            val_loss, val_metric = loss_epoch(model, loss_func, val_dl, sanity_check)\n",
    "        loss_history['val'].append(val_loss)\n",
    "        metric_history['val'].append(val_metric)\n",
    "\n",
    "        if val_loss < best_loss:\n",
    "            best_loss = val_loss\n",
    "            best_model_wts = copy.deepcopy(model.state_dict())\n",
    "            torch.save(model.state_dict(), path2weights)\n",
    "            print('Copied best model weights!')\n",
    "\n",
    "        lr_scheduler.step(val_loss)\n",
    "        if current_lr != get_lr(optim):\n",
    "            print('Loading best model weights!')\n",
    "            model.load_state_dict(best_model_wts)\n",
    "\n",
    "        print('train loss: %.6f, val loss: %.6f, accuracy: %.2f, time: %.4f min' %(train_loss, val_loss, 100*val_metric, (time.time()-start_time)/60))\n",
    "        print('-'*10)\n",
    "\n",
    "    model.load_state_dict(best_model_wts)\n",
    "    return model, loss_history, metric_history            "
   ]
  },
  {
   "cell_type": "markdown",
   "id": "169c1d76-3e9d-4bc5-b862-1ea364b4badd",
   "metadata": {},
   "source": [
    "# Train"
   ]
  },
  {
   "cell_type": "code",
   "execution_count": 12,
   "id": "9e2081db-5eed-4e2c-8111-f54c6ab84b8f",
   "metadata": {},
   "outputs": [],
   "source": [
    "params_train = {\n",
    "    'epoch':30,\n",
    "    'optimizer':optim,\n",
    "    'loss_func':loss_func,\n",
    "    'train_dl':train_dl,\n",
    "    'val_dl':val_dl,\n",
    "    'sanity_check':False,\n",
    "    'lr_scheduler':lr_scheduler,\n",
    "    'path2weights':'./models/teacher_weights.pt',\n",
    "}\n",
    "\n",
    "createFolder('./models')"
   ]
  },
  {
   "cell_type": "code",
   "execution_count": 13,
   "id": "e5a648c2-edc7-4976-9d29-ff158ba29ef5",
   "metadata": {},
   "outputs": [],
   "source": [
    "teacher, loss_hist, metric_hist = train_val(teacher, params_train)"
   ]
  },
  {
   "cell_type": "code",
   "execution_count": 14,
   "id": "5d84467e-068c-4e58-8a7f-acbbf708bed3",
   "metadata": {},
   "outputs": [
    {
     "data": {
      "image/png": "[encoded data removed]",
      "text/plain": [
       "<Figure size 640x480 with 1 Axes>"
      ]
     },
     "metadata": {},
     "output_type": "display_data"
    },
    {
     "data": {
      "image/png": "[encoded data removed]",
      "text/plain": [
       "<Figure size 640x480 with 1 Axes>"
      ]
     },
     "metadata": {},
     "output_type": "display_data"
    }
   ],
   "source": [
    "num_epochs = params_train['epoch']\n",
    "\n",
    "plt.title('Train-Val Loss')\n",
    "plt.plot(range(1, num_epochs+1), loss_hist['train'], label='train')\n",
    "plt.plot(range(1, num_epochs+1), loss_hist['val'], label='val')\n",
    "plt.ylabel('Loss')\n",
    "plt.xlabel('Training Epochs')\n",
    "plt.legend()\n",
    "plt.show()\n",
    "\n",
    "plt.title('Train-Val Accuracy')\n",
    "plt.plot(range(1, num_epochs+1), metric_hist['train'], label='train')\n",
    "plt.plot(range(1, num_epochs+1), metric_hist['val'], label='val')\n",
    "plt.ylabel('Accuracy')\n",
    "plt.xlabel('Training Epochs')\n",
    "plt.legend()\n",
    "plt.show()"
   ]
  },
  {
   "cell_type": "markdown",
   "id": "939341a5-3c0a-4acf-80eb-fb12438fd101",
   "metadata": {},
   "source": [
    "# Define Student Model"
   ]
  },
  {
   "cell_type": "code",
   "execution_count": 15,
   "id": "830cdbb4-9ab2-455a-a429-0df1253a0e36",
   "metadata": {},
   "outputs": [],
   "source": [
    "class Student(nn.Module):\n",
    "    def __init__(self):\n",
    "        super().__init__()\n",
    "        self.fc1 = nn.Linear(28*28, 800)\n",
    "        self.bn1 = nn.BatchNorm1d(800)\n",
    "        self.fc2 = nn.Linear(800, 800)\n",
    "        self.bn2 = nn.BatchNorm1d(800)\n",
    "        self.fc3 = nn.Linear(800, 10)\n",
    "\n",
    "    def forward(self, x):\n",
    "        x = x.view(-1, 28*28)\n",
    "        x = F.relu(self.bn1(self.fc1(x)))\n",
    "        x = F.relu(self.bn2(self.fc2(x)))\n",
    "        x = self.fc3(x)\n",
    "        return x"
   ]
  },
  {
   "cell_type": "code",
   "execution_count": 16,
   "id": "2649fc0b-ae4f-46cf-a3e2-c0a186365e9d",
   "metadata": {},
   "outputs": [
    {
     "name": "stdout",
     "output_type": "stream",
     "text": [
      "torch.Size([16, 10])\n"
     ]
    }
   ],
   "source": [
    "x = torch.randn(16,1,28,28).to(device)\n",
    "student = Student().to(device)\n",
    "output = student(x)\n",
    "print(output.size())"
   ]
  },
  {
   "cell_type": "code",
   "execution_count": 17,
   "id": "2ac36703-bfbd-41b4-ade1-2490422c619b",
   "metadata": {},
   "outputs": [
    {
     "data": {
      "text/plain": [
       "Student(\n",
       "  (fc1): Linear(in_features=784, out_features=800, bias=True)\n",
       "  (bn1): BatchNorm1d(800, eps=1e-05, momentum=0.1, affine=True, track_running_stats=True)\n",
       "  (fc2): Linear(in_features=800, out_features=800, bias=True)\n",
       "  (bn2): BatchNorm1d(800, eps=1e-05, momentum=0.1, affine=True, track_running_stats=True)\n",
       "  (fc3): Linear(in_features=800, out_features=10, bias=True)\n",
       ")"
      ]
     },
     "execution_count": 17,
     "metadata": {},
     "output_type": "execute_result"
    }
   ],
   "source": [
    "def initialize_weights(model):\n",
    "    classname = model.__class__.__name__\n",
    "    if classname.find('Linear') != -1:\n",
    "        nn.init.normal_(model.weight.data, 0.0, 0.02)\n",
    "        nn.init.constant_(model.bias.data, 0)\n",
    "\n",
    "    elif classname.find('BatchNorm') != -1:\n",
    "        nn.init.normal_(model.weight.data, 1.0, 0.02)\n",
    "        nn.init.constant_(model.bias.data, 0)\n",
    "\n",
    "student.apply(initialize_weights)"
   ]
  },
  {
   "cell_type": "markdown",
   "id": "117ad562-6051-41ae-ab68-cc583bff6bfc",
   "metadata": {},
   "source": [
    "# Knowledge Distillation"
   ]
  },
  {
   "cell_type": "code",
   "execution_count": 24,
   "id": "fcde6b5f-dfbd-43ae-95d2-52786a3eff4f",
   "metadata": {},
   "outputs": [],
   "source": [
    "teacher = Teacher().to(device)\n",
    "teacher.load_state_dict(torch.load('./models/teacher_weights.pt'))\n",
    "\n",
    "student = Student().to(device)"
   ]
  },
  {
   "cell_type": "code",
   "execution_count": 25,
   "id": "f7821ff8-e21e-42a8-a8db-8769fc309621",
   "metadata": {},
   "outputs": [],
   "source": [
    "optimizer = optim.Adam(student.parameters())\n",
    "\n",
    "def distillation(y, labels, teacher_scores, T, alpha):\n",
    "    # distillation loss + classification loss\n",
    "    # y: student\n",
    "    # labels: hard label\n",
    "    # teacher_scores: soft label\n",
    "    return nn.KLDivLoss()(F.log_softmax(y/T), F.softmax(teacher_scores/T)) * (T*T * 2.0 + alpha) + F.cross_entropy(y,labels) * (1.-alpha)"
   ]
  },
  {
   "cell_type": "code",
   "execution_count": 27,
   "id": "ee1a0ebd-9aa7-4851-b4e2-10fd1e8aa960",
   "metadata": {},
   "outputs": [],
   "source": [
    "def distill_loss_batch(output, target, teacher_output, loss_fn=distillation, opt=optim):\n",
    "    loss_b = loss_fn(output, target, teacher_output, T=20.0, alpha=0.7)\n",
    "    metric_b = metric_batch(output, target)\n",
    "\n",
    "    if opt is not None:\n",
    "        opt.zero_grad()\n",
    "        loss_b.backward()\n",
    "        opt.step()\n",
    "\n",
    "    return loss_b.item(), metric_b"
   ]
  },
  {
   "cell_type": "code",
   "execution_count": 31,
   "id": "153804f3-5791-4a47-9e02-5ec8016d8e48",
   "metadata": {},
   "outputs": [
    {
     "name": "stdout",
     "output_type": "stream",
     "text": [
      "Epoch 0/99, current lr= 0.001\n"
     ]
    },
    {
     "name": "stderr",
     "output_type": "stream",
     "text": [
      "/tmp/ipykernel_422644/2816120401.py:8: UserWarning: Implicit dimension choice for log_softmax has been deprecated. Change the call to include dim=X as an argument.\n",
      "  return nn.KLDivLoss()(F.log_softmax(y/T), F.softmax(teacher_scores/T)) * (T*T * 2.0 + alpha) + F.cross_entropy(y,labels) * (1.-alpha)\n",
      "/tmp/ipykernel_422644/2816120401.py:8: UserWarning: Implicit dimension choice for softmax has been deprecated. Change the call to include dim=X as an argument.\n",
      "  return nn.KLDivLoss()(F.log_softmax(y/T), F.softmax(teacher_scores/T)) * (T*T * 2.0 + alpha) + F.cross_entropy(y,labels) * (1.-alpha)\n",
      "/home/jinjinjara1022/.local/lib/python3.10/site-packages/torch/nn/functional.py:2919: UserWarning: reduction: 'mean' divides the total loss by both the batch size and the support size.'batchmean' divides only by the batch size, and aligns with the KL div math definition.'mean' will be changed to behave the same as 'batchmean' in the next major release.\n",
      "  warnings.warn(\n"
     ]
    },
    {
     "name": "stdout",
     "output_type": "stream",
     "text": [
      "train loss: 0.035208, val loss: 0.000879, accuracy: 97.25, time: 0.2032 min\n",
      "----------\n",
      "Epoch 1/99, current lr= 0.001\n",
      "train loss: 0.030244, val loss: 0.000736, accuracy: 97.59, time: 0.4004 min\n",
      "----------\n",
      "Epoch 2/99, current lr= 0.001\n",
      "train loss: 0.029497, val loss: 0.000716, accuracy: 97.59, time: 0.5975 min\n",
      "----------\n",
      "Epoch 3/99, current lr= 0.001\n",
      "train loss: 0.029301, val loss: 0.000638, accuracy: 97.84, time: 0.7942 min\n",
      "----------\n",
      "Epoch 4/99, current lr= 0.001\n",
      "train loss: 0.029050, val loss: 0.000608, accuracy: 97.89, time: 0.9938 min\n",
      "----------\n",
      "Epoch 5/99, current lr= 0.001\n",
      "train loss: 0.029058, val loss: 0.000610, accuracy: 97.92, time: 1.1916 min\n",
      "----------\n",
      "Epoch 6/99, current lr= 0.001\n",
      "train loss: 0.028947, val loss: 0.000602, accuracy: 97.93, time: 1.3885 min\n",
      "----------\n",
      "Epoch 7/99, current lr= 0.001\n",
      "train loss: 0.028762, val loss: 0.000566, accuracy: 98.00, time: 1.5932 min\n",
      "----------\n",
      "Epoch 8/99, current lr= 0.001\n",
      "train loss: 0.028588, val loss: 0.000571, accuracy: 98.09, time: 1.7950 min\n",
      "----------\n",
      "Epoch 9/99, current lr= 0.001\n",
      "train loss: 0.028430, val loss: 0.000561, accuracy: 97.98, time: 1.9986 min\n",
      "----------\n",
      "Epoch 10/99, current lr= 0.001\n",
      "train loss: 0.028584, val loss: 0.000586, accuracy: 97.98, time: 2.2018 min\n",
      "----------\n",
      "Epoch 11/99, current lr= 0.001\n",
      "train loss: 0.028394, val loss: 0.000569, accuracy: 98.10, time: 2.4013 min\n",
      "----------\n",
      "Epoch 12/99, current lr= 0.001\n",
      "train loss: 0.028269, val loss: 0.000531, accuracy: 98.21, time: 2.6052 min\n",
      "----------\n",
      "Epoch 13/99, current lr= 0.001\n",
      "train loss: 0.028476, val loss: 0.000554, accuracy: 98.11, time: 2.8027 min\n",
      "----------\n",
      "Epoch 14/99, current lr= 0.001\n",
      "train loss: 0.028422, val loss: 0.000549, accuracy: 98.12, time: 2.9995 min\n",
      "----------\n",
      "Epoch 15/99, current lr= 0.001\n",
      "train loss: 0.028405, val loss: 0.000551, accuracy: 98.12, time: 3.1967 min\n",
      "----------\n",
      "Epoch 16/99, current lr= 0.001\n",
      "train loss: 0.028366, val loss: 0.000547, accuracy: 98.14, time: 3.3730 min\n",
      "----------\n",
      "Epoch 17/99, current lr= 0.001\n",
      "train loss: 0.028336, val loss: 0.000559, accuracy: 98.14, time: 3.5529 min\n",
      "----------\n",
      "Epoch 18/99, current lr= 0.001\n",
      "train loss: 0.028270, val loss: 0.000525, accuracy: 98.15, time: 3.7489 min\n",
      "----------\n",
      "Epoch 19/99, current lr= 0.001\n",
      "train loss: 0.028233, val loss: 0.000523, accuracy: 98.16, time: 3.9455 min\n",
      "----------\n",
      "Epoch 20/99, current lr= 0.001\n",
      "train loss: 0.028013, val loss: 0.000541, accuracy: 98.20, time: 4.1437 min\n",
      "----------\n",
      "Epoch 21/99, current lr= 0.001\n",
      "train loss: 0.028249, val loss: 0.000516, accuracy: 98.28, time: 4.3414 min\n",
      "----------\n",
      "Epoch 22/99, current lr= 0.001\n",
      "train loss: 0.027884, val loss: 0.000514, accuracy: 98.27, time: 4.5389 min\n",
      "----------\n",
      "Epoch 23/99, current lr= 0.001\n",
      "train loss: 0.028170, val loss: 0.000515, accuracy: 98.25, time: 4.7360 min\n",
      "----------\n",
      "Epoch 24/99, current lr= 0.001\n",
      "train loss: 0.028103, val loss: 0.000513, accuracy: 98.21, time: 4.9339 min\n",
      "----------\n",
      "Epoch 25/99, current lr= 0.001\n",
      "train loss: 0.028039, val loss: 0.000499, accuracy: 98.30, time: 5.1319 min\n",
      "----------\n",
      "Epoch 26/99, current lr= 0.001\n",
      "train loss: 0.027849, val loss: 0.000518, accuracy: 98.24, time: 5.3294 min\n",
      "----------\n",
      "Epoch 27/99, current lr= 0.001\n",
      "train loss: 0.028018, val loss: 0.000517, accuracy: 98.27, time: 5.5282 min\n",
      "----------\n",
      "Epoch 28/99, current lr= 0.001\n",
      "train loss: 0.027922, val loss: 0.000495, accuracy: 98.20, time: 5.7246 min\n",
      "----------\n",
      "Epoch 29/99, current lr= 0.001\n",
      "train loss: 0.027903, val loss: 0.000513, accuracy: 98.17, time: 5.9175 min\n",
      "----------\n",
      "Epoch 30/99, current lr= 0.001\n",
      "train loss: 0.027981, val loss: 0.000490, accuracy: 98.24, time: 6.1155 min\n",
      "----------\n",
      "Epoch 31/99, current lr= 0.001\n",
      "train loss: 0.027826, val loss: 0.000489, accuracy: 98.22, time: 6.3137 min\n",
      "----------\n",
      "Epoch 32/99, current lr= 0.001\n",
      "train loss: 0.027920, val loss: 0.000523, accuracy: 98.26, time: 6.5116 min\n",
      "----------\n",
      "Epoch 33/99, current lr= 0.001\n",
      "train loss: 0.027955, val loss: 0.000490, accuracy: 98.20, time: 6.7083 min\n",
      "----------\n",
      "Epoch 34/99, current lr= 0.001\n",
      "train loss: 0.027960, val loss: 0.000516, accuracy: 98.22, time: 6.9057 min\n",
      "----------\n",
      "Epoch 35/99, current lr= 0.001\n",
      "train loss: 0.028069, val loss: 0.000478, accuracy: 98.31, time: 7.1024 min\n",
      "----------\n",
      "Epoch 36/99, current lr= 0.001\n",
      "train loss: 0.027801, val loss: 0.000486, accuracy: 98.34, time: 7.3000 min\n",
      "----------\n",
      "Epoch 37/99, current lr= 0.001\n",
      "train loss: 0.027870, val loss: 0.000489, accuracy: 98.28, time: 7.4969 min\n",
      "----------\n",
      "Epoch 38/99, current lr= 0.001\n",
      "train loss: 0.027706, val loss: 0.000517, accuracy: 98.21, time: 7.6928 min\n",
      "----------\n",
      "Epoch 39/99, current lr= 0.001\n",
      "train loss: 0.027758, val loss: 0.000477, accuracy: 98.25, time: 7.8895 min\n",
      "----------\n",
      "Epoch 40/99, current lr= 0.001\n",
      "train loss: 0.027818, val loss: 0.000506, accuracy: 98.28, time: 8.0866 min\n",
      "----------\n",
      "Epoch 41/99, current lr= 0.001\n",
      "train loss: 0.027840, val loss: 0.000499, accuracy: 98.34, time: 8.2842 min\n",
      "----------\n",
      "Epoch 42/99, current lr= 0.001\n",
      "train loss: 0.027861, val loss: 0.000472, accuracy: 98.36, time: 8.4813 min\n",
      "----------\n",
      "Epoch 43/99, current lr= 0.001\n",
      "train loss: 0.027680, val loss: 0.000484, accuracy: 98.27, time: 8.6771 min\n",
      "----------\n",
      "Epoch 44/99, current lr= 0.001\n",
      "train loss: 0.027680, val loss: 0.000491, accuracy: 98.29, time: 8.8739 min\n",
      "----------\n",
      "Epoch 45/99, current lr= 0.001\n",
      "train loss: 0.027775, val loss: 0.000489, accuracy: 98.30, time: 9.0694 min\n",
      "----------\n",
      "Epoch 46/99, current lr= 0.001\n",
      "train loss: 0.027800, val loss: 0.000493, accuracy: 98.29, time: 9.2659 min\n",
      "----------\n",
      "Epoch 47/99, current lr= 0.001\n",
      "train loss: 0.027898, val loss: 0.000504, accuracy: 98.29, time: 9.4618 min\n",
      "----------\n",
      "Epoch 48/99, current lr= 0.001\n",
      "train loss: 0.027845, val loss: 0.000470, accuracy: 98.31, time: 9.6576 min\n",
      "----------\n",
      "Epoch 49/99, current lr= 0.001\n",
      "train loss: 0.027782, val loss: 0.000455, accuracy: 98.34, time: 9.8542 min\n",
      "----------\n",
      "Epoch 50/99, current lr= 0.001\n",
      "train loss: 0.027857, val loss: 0.000473, accuracy: 98.35, time: 10.0506 min\n",
      "----------\n",
      "Epoch 51/99, current lr= 0.001\n",
      "train loss: 0.027750, val loss: 0.000467, accuracy: 98.31, time: 10.2475 min\n",
      "----------\n",
      "Epoch 52/99, current lr= 0.001\n",
      "train loss: 0.027778, val loss: 0.000478, accuracy: 98.32, time: 10.4451 min\n",
      "----------\n",
      "Epoch 53/99, current lr= 0.001\n",
      "train loss: 0.027704, val loss: 0.000490, accuracy: 98.27, time: 10.6425 min\n",
      "----------\n",
      "Epoch 54/99, current lr= 0.001\n",
      "train loss: 0.027496, val loss: 0.000471, accuracy: 98.41, time: 10.8394 min\n",
      "----------\n",
      "Epoch 55/99, current lr= 0.001\n",
      "train loss: 0.027836, val loss: 0.000477, accuracy: 98.34, time: 11.0365 min\n",
      "----------\n",
      "Epoch 56/99, current lr= 0.001\n",
      "train loss: 0.027807, val loss: 0.000461, accuracy: 98.31, time: 11.2327 min\n",
      "----------\n",
      "Epoch 57/99, current lr= 0.001\n",
      "train loss: 0.027685, val loss: 0.000460, accuracy: 98.31, time: 11.4285 min\n",
      "----------\n",
      "Epoch 58/99, current lr= 0.001\n",
      "train loss: 0.027642, val loss: 0.000469, accuracy: 98.37, time: 11.6245 min\n",
      "----------\n",
      "Epoch 59/99, current lr= 0.001\n",
      "train loss: 0.027669, val loss: 0.000479, accuracy: 98.31, time: 11.8204 min\n",
      "----------\n",
      "Epoch 60/99, current lr= 0.001\n",
      "train loss: 0.027625, val loss: 0.000469, accuracy: 98.27, time: 12.0172 min\n",
      "----------\n",
      "Epoch 61/99, current lr= 0.001\n",
      "train loss: 0.027774, val loss: 0.000472, accuracy: 98.41, time: 12.2156 min\n",
      "----------\n",
      "Epoch 62/99, current lr= 0.001\n",
      "train loss: 0.027710, val loss: 0.000473, accuracy: 98.31, time: 12.4146 min\n",
      "----------\n",
      "Epoch 63/99, current lr= 0.001\n",
      "train loss: 0.027781, val loss: 0.000451, accuracy: 98.39, time: 12.6108 min\n",
      "----------\n",
      "Epoch 64/99, current lr= 0.001\n",
      "train loss: 0.027581, val loss: 0.000472, accuracy: 98.33, time: 12.8080 min\n",
      "----------\n",
      "Epoch 65/99, current lr= 0.001\n",
      "train loss: 0.027661, val loss: 0.000484, accuracy: 98.25, time: 13.0064 min\n",
      "----------\n",
      "Epoch 66/99, current lr= 0.001\n",
      "train loss: 0.027574, val loss: 0.000464, accuracy: 98.36, time: 13.2044 min\n",
      "----------\n",
      "Epoch 67/99, current lr= 0.001\n",
      "train loss: 0.027779, val loss: 0.000477, accuracy: 98.38, time: 13.4022 min\n",
      "----------\n",
      "Epoch 68/99, current lr= 0.001\n",
      "train loss: 0.027865, val loss: 0.000459, accuracy: 98.21, time: 13.6006 min\n",
      "----------\n",
      "Epoch 69/99, current lr= 0.001\n",
      "train loss: 0.027596, val loss: 0.000537, accuracy: 98.36, time: 13.8001 min\n",
      "----------\n",
      "Epoch 70/99, current lr= 0.001\n",
      "train loss: 0.027738, val loss: 0.000456, accuracy: 98.39, time: 13.9975 min\n",
      "----------\n",
      "Epoch 71/99, current lr= 0.001\n",
      "train loss: 0.027524, val loss: 0.000450, accuracy: 98.29, time: 14.1956 min\n",
      "----------\n",
      "Epoch 72/99, current lr= 0.001\n",
      "train loss: 0.027644, val loss: 0.000458, accuracy: 98.36, time: 14.3938 min\n",
      "----------\n",
      "Epoch 73/99, current lr= 0.001\n",
      "train loss: 0.027603, val loss: 0.000482, accuracy: 98.37, time: 14.5927 min\n",
      "----------\n",
      "Epoch 74/99, current lr= 0.001\n",
      "train loss: 0.027551, val loss: 0.000489, accuracy: 98.40, time: 14.7884 min\n",
      "----------\n",
      "Epoch 75/99, current lr= 0.001\n",
      "train loss: 0.027635, val loss: 0.000459, accuracy: 98.39, time: 14.9856 min\n",
      "----------\n",
      "Epoch 76/99, current lr= 0.001\n",
      "train loss: 0.027462, val loss: 0.000464, accuracy: 98.38, time: 15.1841 min\n",
      "----------\n",
      "Epoch 77/99, current lr= 0.001\n",
      "train loss: 0.027524, val loss: 0.000466, accuracy: 98.38, time: 15.3819 min\n",
      "----------\n",
      "Epoch 78/99, current lr= 0.001\n",
      "train loss: 0.027603, val loss: 0.000462, accuracy: 98.40, time: 15.5799 min\n",
      "----------\n",
      "Epoch 79/99, current lr= 0.001\n",
      "train loss: 0.027517, val loss: 0.000467, accuracy: 98.32, time: 15.7776 min\n",
      "----------\n",
      "Epoch 80/99, current lr= 0.001\n",
      "train loss: 0.027640, val loss: 0.000472, accuracy: 98.38, time: 15.9775 min\n",
      "----------\n",
      "Epoch 81/99, current lr= 0.001\n",
      "train loss: 0.027467, val loss: 0.000450, accuracy: 98.37, time: 16.1763 min\n",
      "----------\n",
      "Epoch 82/99, current lr= 0.001\n",
      "train loss: 0.027588, val loss: 0.000470, accuracy: 98.43, time: 16.3757 min\n",
      "----------\n",
      "Epoch 83/99, current lr= 0.001\n",
      "train loss: 0.027623, val loss: 0.000453, accuracy: 98.38, time: 16.5742 min\n",
      "----------\n",
      "Epoch 84/99, current lr= 0.001\n",
      "train loss: 0.027526, val loss: 0.000482, accuracy: 98.34, time: 16.7721 min\n",
      "----------\n",
      "Epoch 85/99, current lr= 0.001\n",
      "train loss: 0.027538, val loss: 0.000458, accuracy: 98.41, time: 16.9693 min\n",
      "----------\n",
      "Epoch 86/99, current lr= 0.001\n",
      "train loss: 0.027640, val loss: 0.000470, accuracy: 98.33, time: 17.1653 min\n",
      "----------\n",
      "Epoch 87/99, current lr= 0.001\n",
      "train loss: 0.027620, val loss: 0.000500, accuracy: 98.34, time: 17.3621 min\n",
      "----------\n",
      "Epoch 88/99, current lr= 0.001\n",
      "train loss: 0.027589, val loss: 0.000453, accuracy: 98.38, time: 17.5584 min\n",
      "----------\n",
      "Epoch 89/99, current lr= 0.001\n",
      "train loss: 0.027737, val loss: 0.000456, accuracy: 98.42, time: 17.7555 min\n",
      "----------\n",
      "Epoch 90/99, current lr= 0.001\n",
      "train loss: 0.027566, val loss: 0.000463, accuracy: 98.34, time: 17.9528 min\n",
      "----------\n",
      "Epoch 91/99, current lr= 0.001\n",
      "train loss: 0.027709, val loss: 0.000473, accuracy: 98.29, time: 18.1508 min\n",
      "----------\n",
      "Epoch 92/99, current lr= 0.001\n",
      "train loss: 0.027416, val loss: 0.000464, accuracy: 98.43, time: 18.3485 min\n",
      "----------\n",
      "Epoch 93/99, current lr= 0.001\n",
      "train loss: 0.027487, val loss: 0.000482, accuracy: 98.35, time: 18.5454 min\n",
      "----------\n",
      "Epoch 94/99, current lr= 0.001\n",
      "train loss: 0.027414, val loss: 0.000459, accuracy: 98.42, time: 18.7436 min\n",
      "----------\n",
      "Epoch 95/99, current lr= 0.001\n",
      "train loss: 0.027631, val loss: 0.000462, accuracy: 98.50, time: 18.9406 min\n",
      "----------\n",
      "Epoch 96/99, current lr= 0.001\n",
      "train loss: 0.027580, val loss: 0.000474, accuracy: 98.41, time: 19.1380 min\n",
      "----------\n",
      "Epoch 97/99, current lr= 0.001\n",
      "train loss: 0.027463, val loss: 0.000456, accuracy: 98.37, time: 19.3361 min\n",
      "----------\n",
      "Epoch 98/99, current lr= 0.001\n",
      "train loss: 0.027539, val loss: 0.000473, accuracy: 98.27, time: 19.5338 min\n",
      "----------\n",
      "Epoch 99/99, current lr= 0.001\n",
      "train loss: 0.027495, val loss: 0.000470, accuracy: 98.34, time: 19.7326 min\n",
      "----------\n"
     ]
    }
   ],
   "source": [
    "num_epochs= 100\n",
    "\n",
    "loss_history = {'train': [], 'val': []}\n",
    "metric_history = {'train': [], 'val': []}\n",
    "\n",
    "best_loss = float('inf')\n",
    "start_time = time.time()\n",
    "\n",
    "for epoch in range(num_epochs):\n",
    "    current_lr = get_lr(optimizer)\n",
    "    print('Epoch {}/{}, current lr= {}'.format(epoch, num_epochs-1, current_lr))\n",
    "\n",
    "    # train\n",
    "    student.train()\n",
    "\n",
    "    running_loss = 0.0\n",
    "    running_metric = 0.0\n",
    "    len_data = len(train_dl.dataset)\n",
    "\n",
    "    for xb, yb in train_dl:\n",
    "        xb = xb.to(device)\n",
    "        yb = yb.to(device)\n",
    "\n",
    "        output = student(xb)\n",
    "        teacher_output = teacher(xb).detach()\n",
    "        loss_b, metric_b = distill_loss_batch(output, yb, teacher_output, loss_fn=distillation, opt=optimizer)\n",
    "        running_loss += loss_b\n",
    "        running_metric_b = metric_b\n",
    "    train_loss = running_loss / len_data\n",
    "    train_metric = running_metric / len_data\n",
    "\n",
    "    loss_history['train'].append(train_loss)\n",
    "    metric_history['train'].append(train_metric)\n",
    "\n",
    "    # validation\n",
    "    student.eval()\n",
    "    with torch.no_grad():\n",
    "        val_loss, val_metric = loss_epoch(student, loss_func, val_dl)\n",
    "    loss_history['val'].append(val_loss)\n",
    "    metric_history['val'].append(val_metric)\n",
    "\n",
    "\n",
    "    lr_scheduler.step(val_loss)\n",
    "\n",
    "    print('train loss: %.6f, val loss: %.6f, accuracy: %.2f, time: %.4f min' %(train_loss, val_loss, 100*val_metric, (time.time()-start_time)/60))\n",
    "    print('-'*10)"
   ]
  },
  {
   "cell_type": "code",
   "execution_count": null,
   "id": "5b50d8eb-bc15-4434-87d8-ccd1ee8e17c7",
   "metadata": {},
   "outputs": [],
   "source": [
    "num_epochs = params_train['num_epochs']\n",
    "\n",
    "# Plot train-val loss\n",
    "plt.title('Train-Val Loss')\n",
    "plt.plot(range(1, num_epochs+1), loss_hist['train'], label='train')\n",
    "plt.plot(range(1, num_epochs+1), loss_hist['val'], label='val')\n",
    "plt.ylabel('Loss')\n",
    "plt.xlabel('Training Epochs')\n",
    "plt.legend()\n",
    "plt.show()\n",
    "\n",
    "# plot train-val accuracy\n",
    "plt.title('Train-Val Accuracy')\n",
    "plt.plot(range(1, num_epochs+1), metric_hist['train'], label='train')\n",
    "plt.plot(range(1, num_epochs+1), metric_hist['val'], label='val')\n",
    "plt.ylabel('Accuracy')\n",
    "plt.xlabel('Training Epochs')\n",
    "plt.legend()\n",
    "plt.show()"
   ]
  }
 ],
 "metadata": {
  "kernelspec": {
   "display_name": "Python 3 (ipykernel)",
   "language": "python",
   "name": "python3"
  },
  "language_info": {
   "codemirror_mode": {
    "name": "ipython",
    "version": 3
   },
   "file_extension": ".py",
   "mimetype": "text/x-python",
   "name": "python",
   "nbconvert_exporter": "python",
   "pygments_lexer": "ipython3",
   "version": "3.10.14"
  }
 },
 "nbformat": 4,
 "nbformat_minor": 5
}
