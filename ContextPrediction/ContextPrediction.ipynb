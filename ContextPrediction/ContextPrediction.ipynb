{
 "cells": [
  {
   "cell_type": "code",
   "execution_count": 1,
   "id": "179df689-2c7e-4499-a4c0-01de066a911a",
   "metadata": {},
   "outputs": [],
   "source": [
    "import torch\n",
    "import torch.nn as nn\n",
    "import torch.optim as optim\n",
    "import torchvision.transforms as transforms\n",
    "import torchvision.datasets as datasets\n",
    "from torch.utils.data import DataLoader, Dataset\n",
    "import numpy as np\n",
    "from PIL import Image\n",
    "import matplotlib.pyplot as plt"
   ]
  },
  {
   "cell_type": "code",
   "execution_count": 2,
   "id": "d0d4a2e9-3a21-49ab-bda0-b17a3a216885",
   "metadata": {},
   "outputs": [],
   "source": [
    "transform = transforms.Compose([\n",
    "    transforms.Resize((10,10)),\n",
    "    transforms.ToTensor()\n",
    "])"
   ]
  },
  {
   "cell_type": "code",
   "execution_count": 3,
   "id": "937f9f24-6626-4166-bde4-5c2ea5f4019b",
   "metadata": {},
   "outputs": [
    {
     "name": "stdout",
     "output_type": "stream",
     "text": [
      "Files already downloaded and verified\n",
      "Files already downloaded and verified\n"
     ]
    }
   ],
   "source": [
    "cifar10_train = datasets.CIFAR10(root='./data', train=True, download=True, transform=transform)\n",
    "cifar10_test = datasets.CIFAR10(root='./data', train=False, download=True, transform=transform)"
   ]
  },
  {
   "cell_type": "code",
   "execution_count": 4,
   "id": "6f14c48e-3878-49ea-8698-de5daa99eeb9",
   "metadata": {},
   "outputs": [
    {
     "data": {
      "text/plain": [
       "torch.Size([3, 10, 10])"
      ]
     },
     "execution_count": 4,
     "metadata": {},
     "output_type": "execute_result"
    }
   ],
   "source": [
    "cifar10_train[0][0].shape"
   ]
  },
  {
   "cell_type": "code",
   "execution_count": 5,
   "id": "105656cc-52cc-4d83-9c54-e90b1ce068b4",
   "metadata": {},
   "outputs": [],
   "source": [
    "class CPDataset(Dataset):\n",
    "    def __init__(self, dataset, transform=None):\n",
    "        self.dataset = dataset\n",
    "        self.transform = transform\n",
    "\n",
    "    def __getitem__(self, idx):\n",
    "        img, _ = self.dataset[idx]\n",
    "        img = img.permute(1, 2, 0).numpy() * 255 \n",
    "        img = img.astype(np.uint8)  \n",
    "\n",
    "        patches = []\n",
    "        for i in range(3):\n",
    "            for j in range(3):\n",
    "                patch = img[10*i:10*(i+1), 10*j:10*(j+1), :]\n",
    "                patch = Image.fromarray(patch)  \n",
    "                if self.transform:\n",
    "                    patch = self.transform(patch)\n",
    "                patches.append(patch)\n",
    "\n",
    "        idx1, idx2 = np.random.choice(9, 2, replace=False)\n",
    "        label = self.get_spatial_label(idx1, idx2)\n",
    "\n",
    "        return patches[idx1], patches[idx2], label\n",
    "\n",
    "    def get_spatial_label(self, idx1, idx2):\n",
    "        rel_positions = {\n",
    "            (-1, -1): 0, (-1, 0): 1, (-1, 1): 2,\n",
    "            (0, -1): 3, (0, 1): 4,\n",
    "            (1, -1): 5, (1, 0): 6, (1, 1): 7\n",
    "        }\n",
    "        row1, col1 = divmod(idx1, 3)\n",
    "        row2, col2 = divmod(idx2, 3)\n",
    "        \n",
    "        return rel_positions.get((row2 - row1, col2 - col1), -1)\n",
    "\n",
    "    def __len__(self):\n",
    "        return len(self.dataset)"
   ]
  },
  {
   "cell_type": "code",
   "execution_count": 6,
   "id": "157405b3-9115-403f-b79e-6ee8f202cb1d",
   "metadata": {},
   "outputs": [],
   "source": [
    "train_dataset = CPDataset(cifar10_train, transform=transform)\n",
    "train_loader = DataLoader(train_dataset, batch_size=64, shuffle=True)"
   ]
  },
  {
   "cell_type": "markdown",
   "id": "61d6b798-11a1-4a12-940a-b69906dd1d33",
   "metadata": {},
   "source": [
    "# Model"
   ]
  },
  {
   "cell_type": "code",
   "execution_count": 12,
   "id": "7de90444-1d54-403c-a59e-d6b3b83aa47c",
   "metadata": {},
   "outputs": [],
   "source": [
    "class ContextPrediction(nn.Module):\n",
    "    def __init__(self, num_classes=8):\n",
    "        super().__init__()\n",
    "\n",
    "        self.shared_cnn = nn.Sequential(\n",
    "            nn.Conv2d(3, 32, kernel_size=3, stride=1, padding=1), # 10x10\n",
    "            nn.BatchNorm2d(32),\n",
    "            nn.ReLU(),\n",
    "            nn.MaxPool2d((2,2)),\n",
    "            \n",
    "            nn.Conv2d(32, 64, kernel_size=3, stride=1, padding=1), # 4x4\n",
    "            nn.BatchNorm2d(64),\n",
    "            nn.ReLU(),\n",
    "            nn.MaxPool2d((2,2))\n",
    "        )\n",
    "\n",
    "        self.fc = nn.Sequential(\n",
    "            nn.Linear(512, 256),\n",
    "            nn.Dropout(0.1),\n",
    "            nn.ReLU(),\n",
    "            nn.Linear(256, num_classes)\n",
    "        )\n",
    "\n",
    "    def forward(self, patch1, patch2):\n",
    "        x1 = self.shared_cnn(patch1)\n",
    "        x1 = x1.view(x1.size(0), -1)\n",
    "        x2 = self.shared_cnn(patch2)\n",
    "        x2 = x2.view(x2.size(0), -1)\n",
    "        x = torch.cat((x1, x2), dim=1)\n",
    "        x = self.fc(x)\n",
    "        return x"
   ]
  },
  {
   "cell_type": "code",
   "execution_count": 13,
   "id": "7b58c750-64bc-47e9-97ec-e5d91081729b",
   "metadata": {},
   "outputs": [],
   "source": [
    "import torch.optim as optim"
   ]
  },
  {
   "cell_type": "code",
   "execution_count": 14,
   "id": "70dc526b-057c-4af4-8348-be6f9f1239d1",
   "metadata": {},
   "outputs": [],
   "source": [
    "device = 'cuda:3'\n",
    "\n",
    "model = ContextPrediction().to(device)\n",
    "optimizer = optim.Adam(model.parameters(), lr=1e-4)\n",
    "criterion = nn.CrossEntropyLoss(ignore_index=-1)  # ❌ -1 레이블을 무시"
   ]
  },
  {
   "cell_type": "code",
   "execution_count": 19,
   "id": "bbd49968-301d-4d2f-ae40-11f28c087305",
   "metadata": {},
   "outputs": [],
   "source": [
    "def train():\n",
    "    model.train()\n",
    "    for epoch in range(20):\n",
    "        total_loss = 0\n",
    "        for patch1, patch2, labels in train_loader:\n",
    "            patch1, patch2, labels = patch1.to(device), patch2.to(device), labels.to(device)\n",
    "            optimizer.zero_grad()\n",
    "            \n",
    "            output = model(patch1, patch2)\n",
    "            loss = criterion(output, labels)\n",
    "            \n",
    "            loss.backward()\n",
    "            optimizer.step()\n",
    "            total_loss += loss.item()\n",
    "        \n",
    "        print(f\"Epoch [{epoch+1}/{20}], Loss: {total_loss/len(train_loader):.4f}\")            "
   ]
  },
  {
   "cell_type": "code",
   "execution_count": 20,
   "id": "f4a5a06f-a195-4388-abd9-28671d988298",
   "metadata": {},
   "outputs": [
    {
     "name": "stdout",
     "output_type": "stream",
     "text": [
      "Epoch [1/20], Loss: 1.9208\n",
      "Epoch [2/20], Loss: 1.9196\n",
      "Epoch [3/20], Loss: 1.9146\n",
      "Epoch [4/20], Loss: 1.9212\n",
      "Epoch [5/20], Loss: 1.9208\n",
      "Epoch [6/20], Loss: 1.9171\n",
      "Epoch [7/20], Loss: 1.9165\n",
      "Epoch [8/20], Loss: 1.9223\n",
      "Epoch [9/20], Loss: 1.9138\n",
      "Epoch [10/20], Loss: 1.9132\n",
      "Epoch [11/20], Loss: 1.9222\n",
      "Epoch [12/20], Loss: 1.9149\n",
      "Epoch [13/20], Loss: 1.9197\n",
      "Epoch [14/20], Loss: 1.9171\n",
      "Epoch [15/20], Loss: 1.9145\n",
      "Epoch [16/20], Loss: 1.9166\n",
      "Epoch [17/20], Loss: 1.9149\n",
      "Epoch [18/20], Loss: 1.9153\n",
      "Epoch [19/20], Loss: 1.9148\n",
      "Epoch [20/20], Loss: 1.9196\n"
     ]
    }
   ],
   "source": [
    "train()"
   ]
  }
 ],
 "metadata": {
  "kernelspec": {
   "display_name": "Python 3 (ipykernel)",
   "language": "python",
   "name": "python3"
  },
  "language_info": {
   "codemirror_mode": {
    "name": "ipython",
    "version": 3
   },
   "file_extension": ".py",
   "mimetype": "text/x-python",
   "name": "python",
   "nbconvert_exporter": "python",
   "pygments_lexer": "ipython3",
   "version": "3.10.14"
  }
 },
 "nbformat": 4,
 "nbformat_minor": 5
}
